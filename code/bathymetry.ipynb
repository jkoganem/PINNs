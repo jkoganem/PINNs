{
 "cells": [
  {
   "cell_type": "code",
   "execution_count": null,
   "metadata": {},
   "outputs": [],
   "source": [
    "################################################################################\n",
    "# SETUP\n",
    "################################################################################\n",
    "\n",
    "# Convenience and saving flags\n",
    "ABRIDGED_RUN = True # Set to True to train and validate on less epochs, for quick funcitonality tests etc\n",
    "SAVE_AFTER_TRAINING = True # Save the model when you are done\n",
    "SAVE_CHECKPOINTS = True # Save the model after every epoch\n",
    "REPORT_TRAINING_LOSS_PER_EPOCH = True # Track the training loss each epoch, and write it to a file after training\n",
    "REPORT_VALIDATION_LOSS_PER_EPOCH = True # Lets us make a nice learning curve after training\n",
    "\n",
    "# Training hyperparameters\n",
    "BATCH_SIZE = 16 # Number of samples per batch while training our network\n",
    "NUM_EPOCHS = 25000 # Number of epochs to train our network\n",
    "if ABRIDGED_RUN == True:\n",
    "    NUM_EPOCHS = 10\n",
    "    \n",
    "LEARNING_RATE = 1e-5 # Learning rate for our optimizer\n",
    "\n",
    "# Directories\n",
    "CHECKPOINT_DIR = \"checkpoints/\" # Checkpoints, models, and training data will be saved here\n",
    "MODEL_NAME = None"
   ]
  }
 ],
 "metadata": {
  "language_info": {
   "name": "python"
  }
 },
 "nbformat": 4,
 "nbformat_minor": 2
}
