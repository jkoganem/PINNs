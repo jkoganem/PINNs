{
 "cells": [
  {
   "cell_type": "code",
   "execution_count": null,
   "metadata": {},
   "outputs": [],
   "source": [
    "################################################################################\n",
    "# SETUP\n",
    "################################################################################\n",
    "\n",
    "# Convenience and saving flags\n",
    "ABRIDGED_RUN = True # Set to True to train and validate on less epochs, for quick funcitonality tests etc\n",
    "SAVE_AFTER_TRAINING = True # Save the model when you are done\n",
    "SAVE_CHECKPOINTS = True # Save the model after every epoch\n",
    "REPORT_TRAINING_LOSS_PER_EPOCH = True # Track the training loss each epoch, and write it to a file after training\n",
    "REPORT_VALIDATION_LOSS_PER_EPOCH = True # Lets us make a nice learning curve after training\n",
    "\n",
    "# Training hyperparameters\n",
    "BATCH_SIZE = 16 # Number of samples per batch while training our network\n",
    "NUM_EPOCHS = 25000 # Number of epochs to train our network\n",
    "if ABRIDGED_RUN == True:\n",
    "    NUM_EPOCHS = 10\n",
    "    \n",
    "LEARNING_RATE = 1e-5 # Learning rate for our optimizer\n",
    "\n",
    "# Directories\n",
    "CHECKPOINT_DIR = \"checkpoints/\" # Checkpoints, models, and training data will be saved here\n",
    "MODEL_NAME = None"
   ]
  },
  {
   "cell_type": "code",
   "execution_count": null,
   "metadata": {},
   "outputs": [],
   "source": [
    "################################################################################\n",
    "# IMPORTS\n",
    "################################################################################\n",
    "\n",
    "print(\"Importing modules\")\n",
    "\n",
    "# Basic imports\n",
    "import pandas as pd\n",
    "import numpy as np\n",
    "np.random.seed(1234)\n",
    "import time\n",
    "import scipy.io\n",
    "from scipy.stats import qmc\n",
    "from tqdm import tqdm\n",
    "\n",
    "import matplotlib.pyplot as plt\n",
    "import matplotlib.gridspec as gridspec\n",
    "from mpl_toolkits.axes_grid1 import make_axes_locatable\n",
    "from mpl_toolkits.mplot3d import Axes3D\n",
    "import matplotlib.ticker\n",
    "from sklearn.model_selection import train_test_split\n",
    "\n",
    "# Torch imports\n",
    "import torch\n",
    "import torch.autograd as autograd\n",
    "from torch import Tensor\n",
    "import torch.nn as nn\n",
    "import torch.optim as optim\n",
    "torch.set_default_dtype(torch.float)\n",
    "torch.manual_seed(1234)\n",
    "print(\"Import complete\")\n",
    "\n",
    "\n",
    "device = torch.device('cuda' if torch.cuda.is_available() else 'mps' if torch.backends.mps.is_available() else 'cpu')\n",
    "print(f\"{device} enabled\")"
   ]
  }
 ],
 "metadata": {
  "language_info": {
   "name": "python"
  }
 },
 "nbformat": 4,
 "nbformat_minor": 2
}
